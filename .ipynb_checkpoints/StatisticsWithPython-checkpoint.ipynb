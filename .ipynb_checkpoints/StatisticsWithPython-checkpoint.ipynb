{
 "cells": [
  {
   "cell_type": "markdown",
   "id": "ae298bbf",
   "metadata": {},
   "source": [
    "# Statistics With Python\n",
    "\n",
    "Info based on Codecademy, 2022."
   ]
  },
  {
   "cell_type": "markdown",
   "id": "781d6567",
   "metadata": {},
   "source": [
    "## Mean\n",
    "\n",
    "Finding the center of a dataset is one of the most common ways to summarize statistical findings. Often, people communicate the center of data using words like, on average, usually, or often.\n",
    "\n",
    "### Calculating Mean\n",
    "\n",
    "The mean, often referred to as the average, is a way to measure the center of a dataset.\n",
    "\n",
    "The average of a set is calculated using a two-step process:\n",
    "\n",
    "1. Add all of the observations in your dataset.\n",
    "2. Divide the total sum from step one by the number of points in your dataset.\n",
    "\n",
    "$$\\bar{x} = \\frac{x_1 + x_2 … + x_{n}}{n} $$\n",
    "\n",
    "The equation above is used to calculate mean. `x1`, `x2`, … `xn` are observations from a dataset of `n` observations.\n",
    "\n",
    "### NumPy Average\n",
    "\n",
    "While you can calculate the average yourself, it becomes time-consuming as the size of your dataset increases — imagine adding all of the numbers in a dataset with 10,000 observations.\n",
    "\n",
    "The NumPy `.average()` or `.mean()` function can do the work of adding and dividing for you. \n",
    "\n",
    "```python\n",
    "example_array = np.array([24, 16, 30, 10, 12, 28, 38, 2, 4, 36])\n",
    " \n",
    "example_average = np.average(example_array)\n",
    " \n",
    "print(example_average)\n",
    "\n",
    "```\n",
    "The most important outcome is that we’re able to use a single number as a measure of centrality. Although histograms provide more information, they are not a concise or precise measure of centrality."
   ]
  },
  {
   "cell_type": "code",
   "execution_count": 18,
   "id": "2963d590",
   "metadata": {},
   "outputs": [
    {
     "name": "stdout",
     "output_type": "stream",
     "text": [
      "20.0\n"
     ]
    }
   ],
   "source": [
    "example_array = np.array([24, 16, 30, 10, 12, 28, 38, 2, 4, 36])\n",
    "example_average = np.average(example_array)\n",
    "print(example_average)"
   ]
  },
  {
   "cell_type": "code",
   "execution_count": 2,
   "id": "f96bfdbc",
   "metadata": {},
   "outputs": [
    {
     "name": "stdout",
     "output_type": "stream",
     "text": [
      "The average age of the 100 greatest authors, according to Le Monde is: 42.12\n"
     ]
    },
    {
     "data": {
      "image/png": "[encoded data removed]",
      "text/plain": [
       "<Figure size 432x288 with 1 Axes>"
      ]
     },
     "metadata": {
      "needs_background": "light"
     },
     "output_type": "display_data"
    }
   ],
   "source": [
    "import numpy as np\n",
    "import pandas as pd\n",
    "from matplotlib import pyplot as plt\n",
    "\n",
    "greatest_books = pd.read_csv(\"top_hundred_books.csv\")\n",
    "\n",
    "author_ages = greatest_books['Ages']\n",
    "\n",
    "average_age = np.average(author_ages)\n",
    "\n",
    "print(\"The average age of the 100 greatest authors, according to Le Monde is: \" + str(average_age))\n",
    "\n",
    "plt.hist(author_ages, range=(10, 80), bins=14,  edgecolor='black')\n",
    "plt.title(\"Age of Top 100 Novel Authors at Publication\")\n",
    "plt.xlabel(\"Publication Age\")\n",
    "plt.ylabel(\"Count\")\n",
    "plt.axvline(average_age, color='r', linestyle='solid', linewidth=2, label=\"Mean\")\n",
    "plt.legend()\n",
    "plt.show()"
   ]
  },
  {
   "cell_type": "markdown",
   "id": "13c50f4f",
   "metadata": {},
   "source": [
    "## Median\n",
    "\n",
    "The formal definition for the median of a dataset is:\n",
    "\n",
    "_The value that, assuming the dataset is ordered from smallest to largest, falls in the middle. If there are an even number of values in a dataset, you either report both of the middle two values or their average._\n",
    "\n",
    "There are always two steps to finding the median of a dataset:\n",
    "\n",
    "1. Order the values in the dataset from smallest to largest\n",
    "2. Identify the number(s) that fall(s) in the middle\n",
    "\n",
    "### Median NumPy\n",
    "\n",
    "Finding the median of a dataset becomes increasingly time-consuming as the size of your dataset increases — imagine finding the median of an unsorted dataset with 10,000 observations.\n",
    "\n",
    "The NumPy `.median()` function can do the work of sorting, then finding the median for you. \n",
    "```python\n",
    "example_array = np.array([24, 16, 30, 10, 12, 28, 38, 2, 4, 36, 42])\n",
    " \n",
    "example_median = np.median(example_array)\n",
    " \n",
    "print(example_median)\n",
    "\n",
    "```\n",
    "Notice that the mean and the median are nearly equal. This is not a surprising result, as both statistics are a measure of the dataset’s center. However, it’s worth noting that these results will not always be so close."
   ]
  },
  {
   "cell_type": "code",
   "execution_count": 17,
   "id": "0f89bd2a",
   "metadata": {},
   "outputs": [
    {
     "name": "stdout",
     "output_type": "stream",
     "text": [
      "24.0\n"
     ]
    }
   ],
   "source": [
    "example_array = np.array([24, 16, 30, 10, 12, 28, 38, 2, 4, 36, 42])\n",
    "example_median = np.median(example_array)\n",
    "print(example_median)"
   ]
  },
  {
   "cell_type": "code",
   "execution_count": 6,
   "id": "53adce62",
   "metadata": {},
   "outputs": [
    {
     "data": {
      "image/png": "[encoded data removed]",
      "text/plain": [
       "<Figure size 432x288 with 1 Axes>"
      ]
     },
     "metadata": {
      "needs_background": "light"
     },
     "output_type": "display_data"
    }
   ],
   "source": [
    "median_age = np.median(author_ages)\n",
    "\n",
    "plt.hist(author_ages, range=(10, 80), bins=14,  edgecolor='black')\n",
    "plt.title(\"Age of Top 100 Novel Authors at Publication\")\n",
    "plt.xlabel(\"Publication Age\")\n",
    "plt.ylabel(\"Count\")\n",
    "plt.axvline(average_age, color='r', linestyle='solid', linewidth=2, label=\"Mean\")\n",
    "plt.axvline(median_age, color='y', linestyle='solid', linewidth=2, label=\"Median\")\n",
    "plt.legend()\n",
    "\n",
    "plt.show()"
   ]
  },
  {
   "cell_type": "markdown",
   "id": "b7b17d95",
   "metadata": {},
   "source": [
    "## Mode\n",
    "\n",
    "The formal definition for the mode of a dataset is:\n",
    "\n",
    "_The most frequently occurring observation in the dataset. A dataset can have multiple modes if there is more than one value with the same maximum frequency._\n",
    "\n",
    "### Mode SciPy\n",
    "\n",
    "Finding the mode of a dataset becomes increasingly time-consuming as the size of your dataset increases — imagine finding the mode of a dataset with 10,000 observations.\n",
    "\n",
    "The SciPy `stats.mode()` function can do the work of finding the mode for you. \n",
    "\n",
    "```python\n",
    "from scipy import stats\n",
    " \n",
    "example_array = np.array([24, 16, 12, 10, 12, 28, 38, 12, 28, 24])\n",
    " \n",
    "example_mode = stats.mode(example_array)\n",
    "\n",
    "```\n",
    "The result of `stats.mode()` is an object with the mode value, and its count.\n",
    "\n",
    "```\n",
    ">>> example_mode\n",
    "ModeResult(mode=array([12]), count=array([3]))\n",
    "\n",
    "```\n",
    "\n",
    "If there are multiple modes, the `stats.mode()` function will always return the smallest mode in the dataset.\n",
    "\n",
    "```python\n",
    "from scipy import stats\n",
    " \n",
    "example_array = np.array([24, 16, 12, 10, 12, 24, 38, 12, 28, 24])\n",
    " \n",
    "example_mode = stats.mode(example_array)\n",
    "```\n",
    "\n",
    "The result of `stats.mode()` is an object with the smallest mode value, and its count.\n",
    "\n",
    "```\n",
    ">>> example_mode\n",
    "ModeResult(mode=array([12]), count=array([3]))\n",
    "```"
   ]
  },
  {
   "cell_type": "code",
   "execution_count": 16,
   "id": "073abc18",
   "metadata": {},
   "outputs": [
    {
     "name": "stdout",
     "output_type": "stream",
     "text": [
      "ModeResult(mode=array([12]), count=array([3]))\n"
     ]
    }
   ],
   "source": [
    "from scipy import stats\n",
    "example_array = np.array([24, 16, 12, 10, 12, 24, 38, 12, 28, 24])\n",
    "example_mode = stats.mode(example_array, keepdims=True)\n",
    "print(example_mode)"
   ]
  },
  {
   "cell_type": "code",
   "execution_count": 13,
   "id": "c1224e97",
   "metadata": {},
   "outputs": [
    {
     "data": {
      "image/png": "[encoded data removed]",
      "text/plain": [
       "<Figure size 432x288 with 1 Axes>"
      ]
     },
     "metadata": {
      "needs_background": "light"
     },
     "output_type": "display_data"
    }
   ],
   "source": [
    "mode_age = stats.mode(author_ages, keepdims=True)[0]\n",
    "\n",
    "plt.hist(author_ages, range=(10, 80), bins=14,  edgecolor='black')\n",
    "plt.title(\"Author Ages at Publication\")\n",
    "plt.xlabel(\"Publication Age\")\n",
    "plt.ylabel(\"Count\")\n",
    "plt.axvline(average_age, color='r', linestyle='solid', linewidth=3, label=\"Mean\")\n",
    "plt.axvline(median_age, color='y', linestyle='dotted', linewidth=3, label=\"Median\")\n",
    "plt.axvline(mode_age, color='orange', linestyle='dashed', linewidth=3, label=\"Mode\")\n",
    "plt.legend()\n",
    "\n",
    "plt.show()"
   ]
  },
  {
   "cell_type": "markdown",
   "id": "8549770f",
   "metadata": {},
   "source": [
    "## Variance\n",
    "\n",
    "Finding the mean, median, and mode of a dataset is a good way to start getting an understanding of the general shape of your data. However, those three descriptive statistics only tell part of the story. Consider the two datasets below:\n",
    "\n",
    "```python\n",
    "dataset_one = [-4, -2, 0, 2, 4]\n",
    "dataset_two = [-400, -200, 0, 200, 400]\n",
    "```\n",
    "These two datasets have the same mean and median — both of those values happen to be 0. If we only reported these two statistics, we would not be communicating any meaningful difference between these two datasets.\n",
    "\n",
    "This is where _variance_ comes into play. Variance is a descriptive statistic that describes how spread out the points in a data set are.\n",
    "\n",
    "### Distance From Mean\n",
    "\n",
    "Now that you have learned the importance of describing the spread of a dataset, let’s figure out how to mathematically compute this number.\n",
    "\n",
    "How would you attempt to capture the spread of the data in a single number?\n",
    "\n",
    "Let’s start with our intuition — we want the variance of a dataset to be a large number if the data is spread out, and a small number if the data is close together.\n",
    "\n",
    "<img src='two_histograms.svg' style='max-height: 1000px'>\n",
    "A lot of people may initially consider using the range of the data. But that only considers two points in your entire dataset. Instead, we can include every point in our calculation by finding the difference between every data point and the mean.\n",
    "\n",
    "<img src='difference.svg' style='max-height: 1000px'>\n",
    "If the data is close together, then each data point will tend to be close to the mean, and the difference will be small. If the data is spread out, the difference between every data point and the mean will be larger.\n",
    "\n",
    "Mathematically, we can write this comparison as\n",
    "\n",
    "$$\\text{difference} = X - \\mu$$\n",
    "\n",
    "Where `X` is a single data point and the Greek letter `mu` is the mean.\n",
    "\n",
    "### Average Distances\n",
    "\n",
    "The whole point of calculating variance is to get one number that describes the dataset. We don’t want to report multiple values — we want to combine those into one descriptive statistic.\n",
    "\n",
    "To do this, we’ll take the average of those distances to the mean. By adding those numbers together and dividing by the total, we’ll end up with a single number that describes the average distance between our data points and the mean.\n",
    "\n",
    "### Square The Differences\n",
    "\n",
    "Consider this very small dataset:\n",
    "\n",
    "```\n",
    "[-5, 5]\n",
    "```\n",
    "The mean of this dataset is `0`, so when we find the difference between each point and the mean we get `-5 - 0 = -5` and `5 - 0 = 5`.\n",
    "\n",
    "When we take the average of `-5` and `5` to get the variance, we get `0`!\n",
    "\n",
    "Now think about what would happen if the dataset were `[-200, 200]`. We’d get the same result! That can’t possibly be right — the dataset with `200` is much more spread out than the dataset with `5`, so the variance should be much larger!\n",
    "\n",
    "The problem here is with negative numbers. Because one of our data points was 5 units below the mean and the other was 5 units above the mean, they canceled each other out!\n",
    "\n",
    "When calculating variance, we don’t care if a data point was above or below the mean — all we care about is how far away it was. To get rid of those pesky negative numbers, we’ll square the difference between each data point and the mean.\n",
    "\n",
    "Our equation for finding the difference between a data point and the mean now looks like this:\n",
    "\n",
    "$$\\text{difference} = (X - \\mu)^2$$\n",
    "\n",
    "### Variance In NumPy\n",
    "\n",
    "The full equation for the variance is as follows:\n",
    "\n",
    "$$\\sigma^2 = \\frac{\\sum_{i=1}^{N}{(X_i -\\mu)^2}}{N}$$\n",
    "\n",
    "Let’s dissect this equation a bit.\n",
    "\n",
    "- Variance is usually represented by the symbol sigma squared.\n",
    "- We start by taking every point in the dataset — from point number 1 to point number N — and finding the difference between that point and the mean.\n",
    "- Next, we square each difference to make all differences positive.\n",
    "- Finally, we average those squared differences by adding them together and dividing by N, the total number of points in the dataset.\n",
    "\n",
    "All of this work can be done quickly using Python’s NumPy library. The `var()` function takes a list of numbers as a parameter and returns the variance of that dataset.\n",
    "\n",
    "```python\n",
    "import numpy as np\n",
    " \n",
    "dataset = [3, 5, -2, 49, 10]\n",
    "variance = np.var(dataset)\n",
    "```\n",
    "Variance is useful because it is a measure of spread. While we might get a general understanding of the spread by looking at a histogram, computing the variance gives us a numerical value that helps us describe the level of confidence of our comparison."
   ]
  },
  {
   "cell_type": "code",
   "execution_count": 20,
   "id": "dcb9584f",
   "metadata": {},
   "outputs": [
    {
     "name": "stdout",
     "output_type": "stream",
     "text": [
      "338.8\n"
     ]
    }
   ],
   "source": [
    "dataset = [3, 5, -2, 49, 10]\n",
    "variance = np.var(dataset)\n",
    "print(variance)"
   ]
  },
  {
   "cell_type": "code",
   "execution_count": 21,
   "id": "85f52035",
   "metadata": {},
   "outputs": [
    {
     "data": {
      "image/png": "[encoded data removed]",
      "text/plain": [
       "<Figure size 432x288 with 1 Axes>"
      ]
     },
     "metadata": {
      "needs_background": "light"
     },
     "output_type": "display_data"
    },
    {
     "name": "stdout",
     "output_type": "stream",
     "text": [
      "The mean of the test scores in teacher one's class is 84.46766666666666\n",
      "The mean of the test scores in teacher two's class is 84.29799999999999\n",
      "The variance of the test scores in teacher one's class is 4.266517888888889\n",
      "The variance of the test scores in teacher two's class is 78.13198933333337\n"
     ]
    }
   ],
   "source": [
    "teacher_one_grades = [80.24, 81.15, 81.29, 82.12, 82.52, 82.54, 82.76, 83.37, 83.42, 83.45, 83.47, 83.79, 83.91, 83.98, 84.03, 84.69, 84.74, 84.89, 84.95, 84.95, 85.02, 85.18, 85.53, 86.29, 86.83, 87.29, 87.47, 87.62, 88.04, 88.5]\n",
    "teacher_two_grades = [65.82, 70.77, 71.46, 73.63, 74.62, 76.53, 76.86, 77.06, 78.46, 79.81, 80.64, 81.61, 81.84, 83.67, 84.44, 84.73, 84.74, 85.15, 86.55, 88.06, 88.53, 90.12, 91.27, 91.62, 92.86, 94.37, 95.64, 95.99, 97.69, 104.4]\n",
    "\n",
    "teacher_one_variance = np.var(teacher_one_grades)\n",
    "teacher_two_variance = np.var(teacher_two_grades)\n",
    "\n",
    "plt.hist(teacher_one_grades, alpha = 0.75, label = \"Teacher 1 Scores\", bins = 7)\n",
    "plt.hist(teacher_two_grades, alpha = 0.5, label = \"Teacher 2 Scores\", bins = 30)\n",
    "plt.title(\"Student test grades in two different classes\")\n",
    "plt.xlabel(\"Grades\")\n",
    "plt.legend()\n",
    "plt.show()\n",
    "\n",
    "print(\"The mean of the test scores in teacher one's class is \" + str(np.mean(teacher_one_grades)))\n",
    "print(\"The mean of the test scores in teacher two's class is \" + str(np.mean(teacher_two_grades)))\n",
    "\n",
    "print(\"The variance of the test scores in teacher one's class is \" +str(teacher_one_variance))\n",
    "print(\"The variance of the test scores in teacher two's class is \" +str(teacher_two_variance))\n"
   ]
  },
  {
   "cell_type": "markdown",
   "id": "5406d64b",
   "metadata": {},
   "source": [
    "## Standard Deviation\n",
    "\n",
    "When beginning to work with a dataset, one of the first pieces of information you might want to investigate is the spread — is the data close together or far apart? One of the tools in our statistics toolbelt to do this is the descriptive statistic variance:\n",
    "\n",
    "$$\\sigma^2 = \\frac{\\sum_{i=1}^{N}{(X_i -\\mu)^2}}{N}$$\n",
    " \n",
    "By finding the variance of a dataset, we can get a numeric representation of the spread of the data. But what does that number really mean? How can we use this number to interpret the spread?\n",
    "\n",
    "It turns out, using variance isn’t necessarily the best statistic to use to describe spread. Luckily, there is another statistic — standard deviation — that can be used instead.\n",
    "\n",
    "Variance is a tricky statistic to use because its units are different from both the mean and the data itself. For example, if the mean of a group of NBA players is `77.98` inches, we can say someone who is 80 inches tall is about two inches taller than the average of that group. However, because the formula for variance includes squaring the difference between the data and the mean, the variance is measured in units squared. For example, a value of `13.32` inches squared for the variance is hard to interpret in context with the mean or the data because their units are different. This is where the statistic _standard deviation_ is useful.\n",
    "\n",
    "Standard deviation is computed by taking the square root of the variance. `sigma` is the symbol commonly used for standard deviation. Conveniently, `sigma` squared is the symbol commonly used for variance:\n",
    "\n",
    "$$\\sigma = \\sqrt{\\sigma^2} = \\sqrt{\\frac{\\sum_{i=1}^{N}{(X_i -\\mu)^2}}{N}}$$\n",
    " \n",
    "In Python, you can take the square root of a number using `** 0.5`:\n",
    "\n",
    "```python\n",
    "num = 25\n",
    "num_square_root = num ** 0.5\n",
    "```\n",
    "\n",
    "### Standard Deviation in NumPy\n",
    "\n",
    "There is a NumPy function dedicated to finding the standard deviation of a dataset — we can cut out the step of first finding the variance. The NumPy function `std()` takes a dataset as a parameter and returns the standard deviation of that dataset:\n",
    "\n",
    "```python\n",
    "import numpy as np\n",
    " \n",
    "dataset = [4, 8, 15, 16, 23, 42]\n",
    "standard_deviation = np.std(dataset)\n",
    "```"
   ]
  },
  {
   "cell_type": "code",
   "execution_count": 25,
   "id": "6f74691e",
   "metadata": {},
   "outputs": [
    {
     "name": "stdout",
     "output_type": "stream",
     "text": [
      "12.315302134607444\n"
     ]
    }
   ],
   "source": [
    "dataset = [4, 8, 15, 16, 23, 42]\n",
    "standard_deviation = np.std(dataset)\n",
    "print(standard_deviation)"
   ]
  },
  {
   "cell_type": "code",
   "execution_count": 27,
   "id": "ffc174ef",
   "metadata": {},
   "outputs": [
    {
     "name": "stdout",
     "output_type": "stream",
     "text": [
      "The standard deviation of the NBA dataset is 3.6501704069810224\n",
      "The standard deviation of the OkCupid dataset is 3.924360330041063\n"
     ]
    }
   ],
   "source": [
    "from some_heights import nba_data, okcupid_data\n",
    "\n",
    "nba_standard_deviation = np.std(nba_data)\n",
    "okcupid_standard_deviation = np.std(okcupid_data)\n",
    "print(\"The standard deviation of the NBA dataset is \" + str(nba_standard_deviation))\n",
    "print(\"The standard deviation of the OkCupid dataset is \" + str(okcupid_standard_deviation))"
   ]
  },
  {
   "cell_type": "markdown",
   "id": "c8c84ed8",
   "metadata": {},
   "source": [
    "## Using Standard Deviation\n",
    "\n",
    "Now that our units match, our measure of spread is easier to interpret. By finding the number of standard deviations a data point is away from the mean, we can begin to investigate how unusual that datapoint truly is. In fact, you can usually expect around **68%** of your data to fall within one standard deviation of the mean, **95%** of your data to fall within two standard deviations of the mean, and **99.7%** of your data to fall within three standard deviations of the mean.\n",
    "\n",
    "<img src='normal_curve.svg' style='max-height: 1000px'>\n",
    "If you have a data point that is over three standard deviations away from the mean, that's an incredibly unusual piece of data! The standard deviation gives you a statistic about spread that can be easily interpreted and compared to the mean."
   ]
  },
  {
   "cell_type": "code",
   "execution_count": 29,
   "id": "55cafbad",
   "metadata": {},
   "outputs": [
    {
     "name": "stdout",
     "output_type": "stream",
     "text": [
      "Your basketball player is 0.5523029818400713 standard deviations away from the mean of NBA player heights\n",
      "\n",
      "Your basketball player is 2.9523282842579257 standard deviations away from the mean of OkCupid profile heights\n"
     ]
    }
   ],
   "source": [
    "nba_mean = np.mean(nba_data)\n",
    "okcupid_mean = np.mean(okcupid_data)\n",
    "\n",
    "nba_standard_deviation = np.std(nba_data)\n",
    "okcupid_standard_deviation = np.std(okcupid_data)\n",
    "\n",
    "player_age = 80\n",
    "\n",
    "nba_difference = player_age - nba_mean\n",
    "okcupid_difference = player_age - okcupid_mean\n",
    "\n",
    "num_nba_deviations = nba_difference/nba_standard_deviation\n",
    "num_okcupid_deviations = okcupid_difference/okcupid_standard_deviation\n",
    "\n",
    "\n",
    "print(\"Your basketball player is \" + str(num_nba_deviations) + \" standard deviations away from the mean of NBA player heights\\n\")\n",
    "print(\"Your basketball player is \" + str(num_okcupid_deviations) + \" standard deviations away from the mean of OkCupid profile heights\")"
   ]
  },
  {
   "cell_type": "code",
   "execution_count": 30,
   "id": "d71bf59b",
   "metadata": {},
   "outputs": [
    {
     "data": {
      "image/png": "[encoded data removed]",
      "text/plain": [
       "<Figure size 432x288 with 2 Axes>"
      ]
     },
     "metadata": {
      "needs_background": "light"
     },
     "output_type": "display_data"
    }
   ],
   "source": [
    "nba_mean = np.mean(nba_data)\n",
    "okcupid_mean = np.mean(okcupid_data)\n",
    "\n",
    "your_height = 67.72\n",
    "\n",
    "nba_standard_deviation = np.std(nba_data)\n",
    "okcupid_standard_deviation = np.std(okcupid_data)\n",
    "\n",
    "plt.subplot(211)\n",
    "plt.title(\"NBA Player Heights\")\n",
    "plt.xlabel(\"Height (inches)\")\n",
    "\n",
    "plt.hist(nba_data)\n",
    "\n",
    "plt.axvline(nba_mean, color='#FD4E40', linestyle='solid', linewidth=2, label = \"Mean\")\n",
    "\n",
    "plt.axvline(nba_mean + nba_standard_deviation, color='#FFB908', linestyle='solid', linewidth=2, label = \"Standard Deviations\")\n",
    "plt.axvline(nba_mean - nba_standard_deviation, color='#FFB908', linestyle='solid', linewidth=2)\n",
    "\n",
    "plt.axvline(nba_mean + nba_standard_deviation * 2, color='#FFB908', linestyle='solid', linewidth=2)\n",
    "plt.axvline(nba_mean - nba_standard_deviation * 2, color='#FFB908', linestyle='solid', linewidth=2)\n",
    "\n",
    "plt.axvline(nba_mean + nba_standard_deviation * 3, color='#FFB908', linestyle='solid', linewidth=2)\n",
    "plt.axvline(nba_mean - nba_standard_deviation * 3, color='#FFB908', linestyle='solid', linewidth=2)\n",
    "\n",
    "plt.axvline(your_height, color='#62EDBF', linestyle='solid', linewidth=2, label = \"You\")\n",
    "\n",
    "plt.xlim(55, 90)\n",
    "plt.legend()\n",
    "\n",
    "\n",
    "plt.subplot(212)\n",
    "plt.title(\"OkCupid Profile Heights\")\n",
    "plt.xlabel(\"Height (inches)\")\n",
    "\n",
    "plt.hist(okcupid_data)\n",
    "\n",
    "plt.axvline(okcupid_mean, color='#FD4E40', linestyle='solid', linewidth=2, label = \"Mean\")\n",
    "\n",
    "plt.axvline(okcupid_mean + okcupid_standard_deviation, color='#FFB908', linestyle='solid', linewidth=2, label = \"Standard Deviations\")\n",
    "plt.axvline(okcupid_mean - okcupid_standard_deviation, color='#FFB908', linestyle='solid', linewidth=2)\n",
    "\n",
    "plt.axvline(okcupid_mean + okcupid_standard_deviation * 2, color='#FFB908', linestyle='solid', linewidth=2)\n",
    "plt.axvline(okcupid_mean - okcupid_standard_deviation * 2, color='#FFB908', linestyle='solid', linewidth=2)\n",
    "\n",
    "plt.axvline(okcupid_mean + okcupid_standard_deviation * 3, color='#FFB908', linestyle='solid', linewidth=2)\n",
    "plt.axvline(okcupid_mean - okcupid_standard_deviation * 3, color='#FFB908', linestyle='solid', linewidth=2)\n",
    "\n",
    "plt.axvline(your_height, color='#62EDBF', linestyle='solid', linewidth=2, label = \"You\")\n",
    "\n",
    "plt.xlim(55, 90)\n",
    "plt.legend()\n",
    "\n",
    "\n",
    "\n",
    "\n",
    "plt.tight_layout()\n",
    "plt.show()\n"
   ]
  },
  {
   "cell_type": "markdown",
   "id": "af43708b",
   "metadata": {},
   "source": [
    "## Histograms\n",
    "\n",
    "Statistics is often pitched as a way to find certainty through data. The power of statistics is more often used to communicate that certainty doesn’t really exist. Instead, it provides tools to communicate how uncertain we are about a problem.\n",
    "\n",
    "There’s no better tool to visualize the uncertainty and chaos in data than a histogram. A histogram displays the distribution of your underlying data.\n",
    "\n",
    "Histograms reveal, through numbers, interpretable trends in your data. They don’t provide a yes or no answer, but are often used as a starting point for discussion and informing an answer to your data.\n",
    "\n",
    "\n",
    "### Summarizing Your Data\n",
    "\n",
    "The purpose of a histogram is to summarize data that you can use to inform a decision or explain a distribution.\n",
    "\n",
    "While a histogram is one of the most useful tools for communicating trends, people often use the average of a dataset to make broad claims about its underlying trends.\n",
    "\n",
    "While the average value of data may be useful to interpret where the data is centered, it can also be misleading."
   ]
  },
  {
   "cell_type": "markdown",
   "id": "927796c0",
   "metadata": {},
   "source": [
    "## Range\n",
    "\n",
    "Histograms are helpful for understanding how your data is distributed. While the average time a customer may arrive at the grocery store is 3 pm, the manager knows 3 pm is not the busiest time of day.\n",
    "\n",
    "Before identifying the busiest times of the day, it’s important to understand the extremes of your data: the minimum and maximum values in your dataset. With the minimums and maximums, you can calculate the range.\n",
    "\n",
    "The range of your data is the difference between the maximum value and the minimum value in your dataset.\n",
    "\n",
    "$$range = max(data)\\ -\\ min(data)$$"
   ]
  },
  {
   "cell_type": "code",
   "execution_count": 34,
   "id": "079cfbb4",
   "metadata": {},
   "outputs": [
    {
     "name": "stdout",
     "output_type": "stream",
     "text": [
      "     Transaction Time        Cost\n",
      "0            7.939419   98.422021\n",
      "1            4.314811   87.329861\n",
      "2            6.394080  112.334882\n",
      "3            7.031504   87.570689\n",
      "4            5.840730   97.321191\n",
      "..                ...         ...\n",
      "995         18.728278   34.802198\n",
      "996         18.183858   36.349422\n",
      "997         16.803236   59.230032\n",
      "998         19.680992   23.748946\n",
      "999         23.369355   57.442948\n",
      "\n",
      "[1000 rows x 2 columns]\n",
      "14.943439668312365\n",
      "Earliest Time: 0.0266151836095787\n",
      "Latest Time: 23.675374635328755\n",
      "Time Range: 23.648759451719176\n"
     ]
    }
   ],
   "source": [
    "transactions = pd.read_csv(\"transactions.csv\")\n",
    "transactions = transactions.drop([\"Unnamed: 0\"], axis = 1)\n",
    "\n",
    "times = transactions[\"Transaction Time\"].values\n",
    "cost = transactions[\"Cost\"].values\n",
    "\n",
    "print(transactions)\n",
    "print(np.average(times))\n",
    "\n",
    "min_time = np.amin(times) \n",
    "max_time = np.amax(times) \n",
    "range_time = max_time - min_time \n",
    "\n",
    "print(\"Earliest Time: \" + str(min_time))\n",
    "print(\"Latest Time: \" + str(max_time))\n",
    "print(\"Time Range: \" + str(range_time))"
   ]
  },
  {
   "cell_type": "markdown",
   "id": "082f09c6",
   "metadata": {},
   "source": [
    "## Bins and Count\n",
    "\n",
    "In the previous exercise, you found that the earliest transaction time is close to 0, and the latest transaction is close to 24, making your range nearly 24 hours.\n",
    "\n",
    "Now, we have the information we need to start building our histogram. The two key features of a histogram are _bins_ and _counts_.\n",
    "\n",
    "### Bins\n",
    "\n",
    "A bin is a sub-range of values that falls within the range of a dataset. In the grocery store example, a valid bin may be from 0 hours to 6 hours. This bin includes all times from just after midnight (0) until 6 am (6).\n",
    "\n",
    "Additionally, all bins in a histogram must be the same width.\n",
    "\n",
    "If the range of values in our dataset is from 0 to 24, and the first bin in our grocery store example is from 0 to 6, can you figure out the minimums and maximums of the other bins?\n",
    "\n",
    "The grocery store bins are:\n",
    "\n",
    "- 0 to 6 hours\n",
    "- 6 to 12 hours\n",
    "- 12 to 18 hours\n",
    "- 18 to 24 hours\n",
    "\n",
    "### Counts\n",
    "\n",
    "A _count_ is the number of values that fall within a bin’s range. For example, if 100 customers arrive at your grocery store between midnight (0) and 6 am (6), your count for that bin is equal to 100.\n",
    "\n",
    "## Histograms\n",
    "\n",
    "While counting the number of values in a bin is straightforward, it is also time-consuming. For these situations, we can use the `numpy.histogram()` function. \n",
    "\n",
    "```python\n",
    "exercise_ages = np.array([22, 27, 45, 62, 34, 52, 42, 22, 34, 26, 24, 65, 34, 25, 45, 23, 45, 33, 52, 55])\n",
    " \n",
    "np.histogram(exercise_ages, range = (20, 70), bins = 5)\n",
    "\n",
    "```\n",
    "Below, we explain each of the function’s inputs:\n",
    "\n",
    "- `exercise_ages` is the input array\n",
    "- `range = (20, 70)` — is the range of values we expect in our array. Range includes everything from 20, up until but not including 70.\n",
    "- bins = 5 is the number of bins. Python will automatically calculate equally-sized bins based on the range and number of bins.\n",
    "Below, you can see the output of the `numpy.histogram()` function:\n",
    "\n",
    "```\n",
    "(array([7, 4, 4, 3, 2]), array([20., 30., 40., 50., 60., 70.]))\n",
    "```\n",
    "\n",
    "The first array, `array([7, 4, 4, 3, 2])`, is the counts for each bin. The second array, `array([20., 30., 40., 50., 60., 70.])`, includes the minimum and maximum values for each bin:\n",
    "\n",
    "- **Bin 1**: 20 to <30\n",
    "- **Bin 2**: 30 to <40\n",
    "- **Bin 3**: 40 to <50\n",
    "- **Bin 4**: 50 to <60\n",
    "- **Bin 5**: 60 to <70"
   ]
  },
  {
   "cell_type": "code",
   "execution_count": 35,
   "id": "7720d351",
   "metadata": {},
   "outputs": [
    {
     "name": "stdout",
     "output_type": "stream",
     "text": [
      "(array([101, 231, 213, 455], dtype=int64), array([ 0.,  6., 12., 18., 24.]))\n"
     ]
    }
   ],
   "source": [
    "times_hist = np.histogram(times, range=(0, 24), bins=4)\n",
    "print(times_hist)"
   ]
  },
  {
   "cell_type": "markdown",
   "id": "0a75e949",
   "metadata": {},
   "source": [
    "## Plotting a Histogram\n",
    "\n",
    "At this point, you’ve learned how to find the numerical inputs to a histogram. Thus far the size of our datasets and bins have produced results that we can interpret. This becomes increasingly difficult as the number of bins in a histogram increases.\n",
    "\n",
    "Because of this, histograms are typically viewed graphically, with bin ranges on the x-axis and counts on the y-axis. The figure below shows the graphical representation of the histogram for our exercise class example from last exercise. Notice, there are five equally-spaced bars, with each displaying a count for an age range. Compare the graph to the table, just below it.\n",
    "\n",
    "<img src='age-distribution.png' style='max-height: 400px'>\n",
    "\n",
    "Histograms are an easy way to visualize trends in your data. When I look at the above graph, I think, “More people in the exercise class are in their twenties than any other decade. Additionally, the histogram is skewed, indicating the class is made of more younger people than older people.”\n",
    "\n",
    "We created the plot above using the matplotlib.pyplot package. \n",
    "\n",
    "\n",
    "We plotted the histogram with the following code. Notice, the bins `range` and `bins` arguments are the same as we used in the last exercise:\n",
    "\n",
    "```python\n",
    "from matplotlib import pyplot as plt\n",
    "\n",
    "plt.hist(exercise_ages, range = (20, 70), bins = 5, edgecolor='black')\n",
    " \n",
    "plt.title(\"Decade Frequency\")\n",
    "plt.xlabel(\"Ages\")\n",
    "plt.ylabel(\"Count\")\n",
    " \n",
    "plt.show()\n",
    "```\n",
    "In the code above, we used the `plt.hist()` function to create the plot, then added a title, x-label, and y-label before showing the graph with `plt.show()`."
   ]
  },
  {
   "cell_type": "code",
   "execution_count": 36,
   "id": "9a57aa70",
   "metadata": {},
   "outputs": [
    {
     "data": {
      "image/png": "[encoded data removed]",
      "text/plain": [
       "<Figure size 432x288 with 1 Axes>"
      ]
     },
     "metadata": {
      "needs_background": "light"
     },
     "output_type": "display_data"
    }
   ],
   "source": [
    "plt.hist(times, range=(0, 24), bins=4, edgecolor='black')\n",
    "plt.show()"
   ]
  },
  {
   "cell_type": "markdown",
   "id": "e1d6cf91",
   "metadata": {},
   "source": [
    "## Finding your Best Bin Size\n",
    "The figure below displays the graph that you created in the last exercise:\n",
    "\n",
    "<img src='customer-frequency.png' style='max-height:400px'>\n",
    "\n",
    "This histogram is helpful for our store manager. The last six hours of the day are the busiest — from 6 pm until midnight. Does this mean the manager should staff their grocery store with the most employees between 6 pm and midnight?\n",
    "\n",
    "To the manager, this doesn’t make much sense. The manager knows the store is busy when many people get off work, but the rush certainly doesn’t continue later than 9 pm.\n",
    "\n",
    "The issue with this histogram is that we have too few bins. When plotting a histogram, it’s essential to select bins that fully capture the trends in the underlying data. Often, this will require some guessing and checking. There isn’t much of a science to selecting bin size.\n",
    "\n",
    "How many bins do you think makes sense for this example? I would try 24 because there are 24 hours in a day."
   ]
  },
  {
   "cell_type": "code",
   "execution_count": 37,
   "id": "81cdfffc",
   "metadata": {},
   "outputs": [
    {
     "data": {
      "image/png": "[encoded data removed]",
      "text/plain": [
       "<Figure size 432x288 with 1 Axes>"
      ]
     },
     "metadata": {
      "needs_background": "light"
     },
     "output_type": "display_data"
    }
   ],
   "source": [
    "plt.hist(times, range=(0, 24), bins=24,  edgecolor=\"black\")\n",
    "plt.title(\"Weekday Frequency of Customers\")\n",
    "plt.xlabel(\"Hours (1 hour increments)\")\n",
    "plt.ylabel(\"Count\")\n",
    "\n",
    "plt.show()"
   ]
  },
  {
   "cell_type": "markdown",
   "id": "9db67108",
   "metadata": {},
   "source": [
    "Now, the store manager wants a histogram of transaction costs. Try plotting a histogram for the cost variable.\n",
    "\n",
    "Some things to think about:\n",
    "\n",
    "- What is a reasonable minimum for transaction data? Maybe 0 dollars.\n",
    "- What is a reasonable maximum for the transaction data? Using np.amax(cost), we get 161.4. So, you could make the maximum 165.\n",
    "- How many bins should you use to adequately represent the data? Do some guess and check work to figure this out.\n",
    "\n",
    "Finally, think about how this data could be useful to the store manager."
   ]
  },
  {
   "cell_type": "code",
   "execution_count": 38,
   "id": "f5d73ef5",
   "metadata": {},
   "outputs": [
    {
     "data": {
      "image/png": "[encoded data removed]",
      "text/plain": [
       "<Figure size 432x288 with 1 Axes>"
      ]
     },
     "metadata": {
      "needs_background": "light"
     },
     "output_type": "display_data"
    }
   ],
   "source": [
    "plt.hist(cost, range=(np.amin(cost), np.amax(cost)), bins=10, edgecolor='black')\n",
    "plt.show()"
   ]
  },
  {
   "cell_type": "markdown",
   "id": "108d5961",
   "metadata": {},
   "source": [
    "## Describing Histograms\n",
    "\n",
    "While many people know the functions to plot a histogram, few spend the time to learn how to fully, and concisely communicate what it means.\n",
    "We can describe a histogram (distribution) using the following five features of a dataset:\n",
    "\n",
    "- Center\n",
    "- Spread\n",
    "- Skew\n",
    "- Modality\n",
    "- Outliers\n",
    "\n",
    "### Center\n",
    "\n",
    "One of the most common ways to summarize a dataset is to communicate its center. We use average and median as our measures of centrality. The figure below shows the average and median ages of a dataset of 100 authors. As expected, the average and median values are near the center of the distribution.\n",
    "\n",
    "<img src='mean-median.png' style='max-height:1000px'>\n",
    "\n",
    "While it’s good practice to communicate both the average and median values, the average is generally more common.\n",
    "\n",
    "### Spread\n",
    "\n",
    "Once you’ve found the center of your data, you can shift to identifying the extremes of your dataset: the minimum and maximum values. These values, taken with the mean and median, begin to indicate the shape of the underlying dataset. Take the histogram below as an example:\n",
    "\n",
    "<img src='mean-median.png' style='max-height:1000px'>\n",
    "\n",
    "The minimum value of this data is 18, and the maximum value is 76.\n",
    "\n",
    "You can calculate the range using the following:\n",
    "\n",
    "$$range = max - min$$\n",
    "\n",
    "The range of this dataset is\n",
    "\n",
    "$$range = 76 - 18 = 58$$\n",
    "\n",
    "### Skew\n",
    "\n",
    "Once you have the center and range of your data, you can begin to describe its shape. The skew of a dataset is a description of the data’s symmetry. \n",
    "\n",
    "A dataset with one prominent peak, and similar tails to the left and right is called symmetric. The median and mean of a symmetric dataset are similar.\n",
    "\n",
    "<img src='distribution-types-ii-symmetric.svg' style='max-height:1000px'>\n",
    "\n",
    "A histogram with a tail that extends to the right is called a right-skewed dataset. The median of this dataset is less than the mean.\n",
    "\n",
    "<img src='distribution-types-ii-skew-right.svg' style='max-height:1000px'>\n",
    "\n",
    "A histogram with one prominent peak to the right, and a tail that extends to the left is called a left-skewed dataset. The median of this dataset is greater than the mean.\n",
    "\n",
    "<img src='distribution-types-ii-skew-left.svg' style='max-height:1000px'>\n",
    "\n",
    "### Modality\n",
    "\n",
    "The modality describes the number of peaks in a dataset. Thus far, we have only looked at datasets with one distinct peak, known as unimodal. This is the most common.\n",
    "\n",
    "<img src='unimodal_new.svg' style='max-height:400px'>\n",
    "\n",
    "A bimodal dataset has two distinct peaks.\n",
    "\n",
    "<img src='bimodal_new.svg' style='max-height:400px'>\n",
    "\n",
    "A multimodal dataset has more than two peaks. The histogram below displays three peaks.\n",
    "\n",
    "<img src='multimodal_new.svg' style='max-height:400px'>\n",
    "\n",
    "You may also see datasets with no obvious clustering. Datasets such as these are called uniform distributions.\n",
    "\n",
    "<img src='uniform_new.svg' style='max-height:400px'>\n",
    "\n",
    "### Outliers\n",
    "\n",
    "An outlier is a data point that is far away from the rest of the dataset. Outliers do not have a formal definition, but are easy to determine by looking at histogram. The histogram below shows an example of an outlier. There is one datapoint that is much larger than the rest.\n",
    "\n",
    "<img src='outlier.png' style='max-height:400px'>\n",
    "\n",
    "If you see an outlier in your dataset, it’s worth reporting and investigating. This data can often indicate an error in your data or an interesting insight."
   ]
  },
  {
   "cell_type": "code",
   "execution_count": 39,
   "id": "f5fe9a06",
   "metadata": {},
   "outputs": [
    {
     "data": {
      "image/png": "[encoded data removed]",
      "text/plain": [
       "<Figure size 432x288 with 1 Axes>"
      ]
     },
     "metadata": {
      "needs_background": "light"
     },
     "output_type": "display_data"
    }
   ],
   "source": [
    "cp_data = pd.read_csv(\"cp.csv\") \n",
    "\n",
    "cp_average = cp_data[' Average Covered Charges '].mean()\n",
    "\n",
    "cp_median = cp_data[' Average Covered Charges '].median()\n",
    "\n",
    "plt.hist(cp_data[' Average Covered Charges '], bins=20, edgecolor='black')\n",
    "\n",
    "plt.title(\"Distribution of Chest Pain Treatment Cost by Hospital\", fontsize = 16)\n",
    "plt.xlabel(\"Cost ($)\", fontsize = 16)\n",
    "plt.ylabel(\"Count\", fontsize = 16)\n",
    "plt.axvline(cp_average, color='r', linestyle='solid', linewidth=2, label=\"Mean\")\n",
    "plt.axvline(cp_median, color='y', linestyle='solid', linewidth=2, label=\"Median\")\n",
    "plt.legend()\n",
    "\n",
    "plt.show()"
   ]
  },
  {
   "cell_type": "code",
   "execution_count": 40,
   "id": "36b3ee8c",
   "metadata": {},
   "outputs": [
    {
     "name": "stdout",
     "output_type": "stream",
     "text": [
      "<class 'pandas.core.frame.DataFrame'>\n",
      "RangeIndex: 2230 entries, 0 to 2229\n",
      "Data columns (total 13 columns):\n",
      " #   Column                                Non-Null Count  Dtype  \n",
      "---  ------                                --------------  -----  \n",
      " 0   Unnamed: 0                            2230 non-null   int64  \n",
      " 1   DRG Definition                        2230 non-null   object \n",
      " 2   Provider Id                           2230 non-null   int64  \n",
      " 3   Provider Name                         2230 non-null   object \n",
      " 4   Provider Street Address               2230 non-null   object \n",
      " 5   Provider City                         2230 non-null   object \n",
      " 6   Provider State                        2230 non-null   object \n",
      " 7   Provider Zip Code                     2230 non-null   int64  \n",
      " 8   Hospital Referral Region Description  2230 non-null   object \n",
      " 9    Total Discharges                     2230 non-null   int64  \n",
      " 10   Average Covered Charges              2230 non-null   float64\n",
      " 11   Average Total Payments               2230 non-null   float64\n",
      " 12  Average Medicare Payments             2230 non-null   float64\n",
      "dtypes: float64(3), int64(4), object(6)\n",
      "memory usage: 226.6+ KB\n"
     ]
    }
   ],
   "source": [
    "cp_data.info()"
   ]
  },
  {
   "cell_type": "code",
   "execution_count": 41,
   "id": "9fe8fe2b",
   "metadata": {},
   "outputs": [],
   "source": [
    "n = len(cp_data[' Average Covered Charges '])\n",
    "min_val = np.amin(cp_data[' Average Covered Charges '])\n",
    "max_val = np.amax(cp_data[' Average Covered Charges '])\n",
    "range_val = max_val - min_val"
   ]
  },
  {
   "cell_type": "code",
   "execution_count": 42,
   "id": "d85461a3",
   "metadata": {},
   "outputs": [],
   "source": [
    "summary = f'''\n",
    "This histogram displays the distribution of chest pain cost for over {n} hospitals across the United States. \n",
    "The average and median costs are ${round(cp_average)} and ${round(cp_median)}, respectively. \n",
    "Given that the data is unimodal, with one local maximum and a right skew, the fact that the average is greater than the median, matches our expectation.\n",
    "The range of costs is very large, ${range_val}, with the smallest cost equal to ${min_val} and the largest cost equal to ${max_val}. \n",
    "There is one hospital, Bayonne Hospital Center, that charges far more than the rest at $81,083.\n",
    "'''"
   ]
  },
  {
   "cell_type": "code",
   "execution_count": 43,
   "id": "467bc95d",
   "metadata": {},
   "outputs": [
    {
     "name": "stdout",
     "output_type": "stream",
     "text": [
      "\n",
      "This histogram displays the distribution of chest pain cost for over 2230 hospitals across the United States. \n",
      "The average and median costs are $16948 and $14660, respectively. \n",
      "Given that the data is unimodal, with one local maximum and a right skew, the fact that the average is greater than the median, matches our expectation.\n",
      "The range of costs is very large, $78623.6, with the smallest cost equal to $2459.4 and the largest cost equal to $81083.0. \n",
      "There is one hospital, Bayonne Hospital Center, that charges far more than the rest at $81,083.\n",
      "\n"
     ]
    }
   ],
   "source": [
    "print(summary)"
   ]
  },
  {
   "cell_type": "markdown",
   "id": "a41c75bf",
   "metadata": {},
   "source": [
    "# Quartiles\n",
    "\n",
    "A common way to communicate a high-level overview of a dataset is to find the values that split the data into four groups of equal size.\n",
    "\n",
    "By doing this, we can then say whether a new datapoint falls in the first, second, third, or fourth quarter of the data.\n",
    "\n",
    "<img src='quartiles.svg' style='max-height:1000px'>\n",
    "The values that split the data into fourths are the quartiles.\n",
    "\n",
    "Those values are called the first quartile (Q1), the second quartile (Q2), and the third quartile (Q3). In the image above, Q1 is 10, Q2 is 13, and Q3 is 22. Those three values split the data into four groups that each contain five datapoints."
   ]
  },
  {
   "cell_type": "code",
   "execution_count": 44,
   "id": "32180f4a",
   "metadata": {},
   "outputs": [
    {
     "data": {
      "image/png": "[encoded data removed]",
      "text/plain": [
       "<Figure size 432x288 with 1 Axes>"
      ]
     },
     "metadata": {
      "needs_background": "light"
     },
     "output_type": "display_data"
    }
   ],
   "source": [
    "from song_data import songs\n",
    "plt.hist(songs, bins = 200)\n",
    "plt.axvline(x=364, label=\"Chicago\", c = 'r')\n",
    "plt.xlabel(\"Song Length (Seconds)\")\n",
    "plt.ylabel(\"Count\")\n",
    "plt.legend()\n",
    "plt.show()"
   ]
  },
  {
   "cell_type": "markdown",
   "id": "123f9bed",
   "metadata": {},
   "source": [
    "## The Second Quartile\n",
    "\n",
    "Let’s begin by finding the second quartile (Q2). Q2 happens to be exactly the median. Half of the data falls below Q2 and half of the data falls above Q2.\n",
    "\n",
    "The first step in finding the quartiles of a dataset is to sort the data from smallest to largest. For example, below is an unsorted dataset:\n",
    "\n",
    "$$ [8, 15, 4, -108, 16, 23, 42]$$\n",
    "\n",
    "After sorting the dataset, it looks like this:\n",
    "\n",
    "$$[-108, 4, 8, 15, 16, 23, 42]$$\n",
    "\n",
    "Now that the list is sorted, we can find Q2. In the example dataset above, Q2 (and the median) is 15 — there are three points below 15 and three points above 15.\n",
    "\n",
    "### Even Number of Datapoints\n",
    "\n",
    "You might be wondering what happens if there is an even number of points in the dataset. For example, if we remove the -108 from our dataset, it will now look like this:\n",
    "\n",
    "$$[4, 8, 15, 16, 23, 42]$$\n",
    "\n",
    "Q2 now falls somewhere between 15 and 16. There are a couple of different strategies that you can use to calculate Q2 in this situation. One of the more common ways is to take the average of those two numbers. In this case, that would be 15.5.\n",
    "\n",
    "Recall that you can find the average of two numbers by adding them together and dividing by two."
   ]
  },
  {
   "cell_type": "markdown",
   "id": "88260acc",
   "metadata": {},
   "source": [
    "## Q1 and Q3\n",
    "\n",
    "Now that we’ve found Q2, we can use that value to help us find Q1 and Q3. Recall our demo dataset:\n",
    "\n",
    "$$[-108, 4, 8, 15, 16, 23, 42]$$\n",
    "\n",
    "In this example, Q2 is 15. To find Q1, we take all of the data points smaller than Q2 and find the median of those points. In this case, the points smaller than Q2 are:\n",
    "\n",
    "$$[-108, 4, 8]$$\n",
    "\n",
    "The median of that smaller dataset is 4. That’s Q1!\n",
    "\n",
    "To find Q3, do the same process using the points that are larger than Q2. We have the following points:\n",
    "\n",
    "$$[16, 23, 42]$$\n",
    "\n",
    "The median of those points is 23. That’s Q3! We now have three points that split the original dataset into groups of four equal sizes.\n",
    "\n",
    "There is another method that is equally accepted that results in different values! There is no universally agreed upon method of calculating quartiles, and as a result, two different tools might report different results.\n",
    "\n",
    "The second method includes Q2 when trying to calculate Q1 and Q3. Let’s take a look at an example:\n",
    "\n",
    "$$[-108, 4, 8, 15, 16, 23, 42]$$\n",
    "\n",
    "Using the first method, we found Q1 to be 4. When looking at all of the points below Q2, we excluded Q2. Using this second method, we include Q2 in each half.\n",
    "\n",
    "For example, when calculating Q1 using this new method, we would now find the median of this dataset:\n",
    "\n",
    "$$[-108, 4, 8, 15]$$\n",
    "Using this method, Q1 is 6.\n",
    "\n",
    "### Quartiles in NumPy\n",
    "\n",
    "There is a function in the NumPy library that will find the quartiles for you. The NumPy function that we’ll be using is named `quantile()`. \n",
    "```python\n",
    "import numpy as np\n",
    " \n",
    "dataset = [50, 10, 4, -3, 4, -20, 2]\n",
    "third_quartile = np.quantile(dataset, 0.75)\n",
    "\n",
    "```\n",
    "The `quantile()` function takes two parameters. The first is the dataset you’re interested in. The second is a number between 0 and 1. Since we calculated the third quartile, we used 0.75 — we want the point that splits the first 75% of the data from the rest.\n",
    "\n",
    "For the second quartile, we’d use 0.5. This will give you the point that 50% of the data is below and 50% is above.\n",
    "\n",
    "Notice that the dataset doesn’t need to be sorted for NumPy’s function to work!\n",
    "\n",
    "Quartiles are so commonly used that the three quartiles, along with the minimum and the maximum values of a dataset, are called the five-number summary of the dataset. These five numbers help you quickly get a sense of the range, centrality, and spread of the dataset."
   ]
  },
  {
   "cell_type": "code",
   "execution_count": 46,
   "id": "925def86",
   "metadata": {},
   "outputs": [
    {
     "data": {
      "image/png": "[encoded data removed]",
      "text/plain": [
       "<Figure size 432x288 with 1 Axes>"
      ]
     },
     "metadata": {
      "needs_background": "light"
     },
     "output_type": "display_data"
    }
   ],
   "source": [
    "q1 = np.quantile(songs, 0.25)\n",
    "q2 = np.quantile(songs, 0.5)\n",
    "q3 = np.quantile(songs, 0.75)\n",
    "\n",
    "plt.hist(songs, bins = 200)\n",
    "plt.axvline(x=q1, label=\"Q1\", c = '#6400e4')\n",
    "plt.axvline(x=q2, label=\"Q2\", c = '#fd4d3f')\n",
    "plt.axvline(x=q3, label=\"Q3\", c = '#4fe0b0')\n",
    "plt.xlabel(\"Song Length (Seconds)\")\n",
    "plt.ylabel(\"Count\")\n",
    "plt.legend()\n",
    "plt.show()"
   ]
  },
  {
   "cell_type": "markdown",
   "id": "4d261504",
   "metadata": {},
   "source": [
    "# Quantiles\n",
    "\n",
    "Quantiles are points that split a dataset into groups of equal size. For example, let’s say you just took a test and wanted to know whether you’re in the top 10% of the class. One way to determine this would be to split the data into ten groups with an equal number of datapoints in each group and see which group you fall into.\n",
    "\n",
    "<img src='deciles.svg' style='max-height:1000px'>\n",
    "\n",
    "There are nine values that split the dataset into ten groups of equal size — each group has 3 different test scores in it.\n",
    "\n",
    "Those nine values that split the data are quantiles! Specifically, they are the 10-quantiles, or deciles.\n",
    "\n",
    "You can find any number of quantiles. For example, if you split the dataset into 100 groups of equal size, the 99 values that split the data are the 100-quantiles, or percentiles.\n",
    "\n",
    "The quartiles are some of the most commonly used quantiles. The quartiles split the data into four groups of equal size.\n",
    "\n",
    "In this lesson, we’ll show you how to calculate quantiles using NumPy and discuss some of the most commonly used quantiles."
   ]
  },
  {
   "cell_type": "code",
   "execution_count": 47,
   "id": "e5147529",
   "metadata": {},
   "outputs": [
    {
     "data": {
      "image/png": "[encoded data removed]",
      "text/plain": [
       "<Figure size 432x288 with 3 Axes>"
      ]
     },
     "metadata": {
      "needs_background": "light"
     },
     "output_type": "display_data"
    }
   ],
   "source": [
    "q1 = np.quantile(songs, 0.25)\n",
    "q2 = np.quantile(songs, 0.5)\n",
    "q3 = np.quantile(songs, 0.75)\n",
    "\n",
    "plt.subplot(3,1,1)\n",
    "plt.hist(songs, bins = 200)\n",
    "plt.axvline(x=q1, c = 'r')\n",
    "plt.axvline(x=q2, c = 'r')\n",
    "plt.axvline(x=q3, c = 'r')\n",
    "plt.xlabel(\"Song Length (Seconds)\")\n",
    "plt.ylabel(\"Count\")\n",
    "plt.title(\"4-Quantiles\")\n",
    "\n",
    "plt.subplot(3,1,2)\n",
    "plt.hist(songs, bins = 200)\n",
    "plt.axvline(x=np.quantile(songs, 0.2), c = 'r')\n",
    "plt.axvline(x=np.quantile(songs, 0.4), c = 'r')\n",
    "plt.axvline(x=np.quantile(songs, 0.6), c = 'r')\n",
    "plt.axvline(x=np.quantile(songs, 0.8), c = 'r')\n",
    "plt.xlabel(\"Song Length (Seconds)\")\n",
    "plt.ylabel(\"Count\")\n",
    "plt.title(\"5-Quantiles\")\n",
    "\n",
    "plt.subplot(3,1,3)\n",
    "plt.hist(songs, bins = 200)\n",
    "for i in range(1, 10):\n",
    "  plt.axvline(x=np.quantile(songs, i/10), c = 'r')\n",
    "plt.xlabel(\"Song Length (Seconds)\")\n",
    "plt.ylabel(\"Count\")\n",
    "plt.title(\"10-Quantiles\")\n",
    "\n",
    "plt.tight_layout()\n",
    "plt.show()"
   ]
  },
  {
   "cell_type": "markdown",
   "id": "3a4bdd88",
   "metadata": {},
   "source": [
    "## Many Quantiles\n",
    "\n",
    "Quantiles are usually a set of values that split the data into groups of equal size. For example, you wanted to get the 5-quantiles, or the four values that split the data into five groups of equal size, you could use this code:\n",
    "\n",
    "```python\n",
    "import numpy as np\n",
    " \n",
    "dataset = [5, 10, -20, 42, -9, 10]\n",
    "ten_percent = np.quantile(dataset, [0.2, 0.4, 0.6, 0.8])\n",
    "\n",
    "```\n",
    "Note that we had to do a little math in our head to make sure that the values `[0.2, 0.4, 0.6, 0.8]` split the data into groups of equal size. Each group has 20% of the data.\n",
    "\n",
    "<img src='even.svg' style='max-height:1000px'>\n",
    "\n",
    "If we used the values `[0.2, 0.4, 0.7, 0.8]`, the function would return the four values at those split points. However, those values wouldn’t split the data into five equally sized groups. One group would only have 10% of the data and another group would have 30% of the data!\n",
    "\n",
    "<img src='uneven.svg' style='max-height:1000px'>\n",
    "\n",
    "## Common Quantiles\n",
    "One of the most common quantiles is the 2-quantile. This value splits the data into two groups of equal size. Half the data will be above this value, and half the data will be below it. This is also known as the median!\n",
    "\n",
    "<img src='median.svg' style='max-height:1000px'>\n",
    "\n",
    "The 4-quantiles, or the quartiles, split the data into four groups of equal size. We found the quartiles in the previous exercise. Options\n",
    "\n",
    "<img src='quartiles (1).svg' style='max-height:1000px'>\n",
    "Finally, the percentiles, or the values that split the data into 100 groups, are commonly used to compare new data points to the dataset. You might hear statements like “You are above the 80th percentile in height”. This means that your height is above whatever value splits the first 80% of the data from the remaining 20%.\n",
    "\n",
    "Here are some of the major takeaways about quantiles:\n",
    "\n",
    "- Quantiles are values that split a dataset into groups of equal size.\n",
    "- If you have n quantiles, the dataset will be split into n+1 groups of equal size.\n",
    "- The median is a quantile. It is the only 2-quantile. Half the data falls below the median and half falls above the median.\n",
    "- Quartiles and percentiles are other common quantiles. Quartiles split the data into 4 groups while percentiles split the data into 100 groups."
   ]
  },
  {
   "cell_type": "code",
   "execution_count": 48,
   "id": "db7c40c7",
   "metadata": {},
   "outputs": [
    {
     "data": {
      "image/png": "[encoded data removed]",
      "text/plain": [
       "<Figure size 432x288 with 3 Axes>"
      ]
     },
     "metadata": {
      "needs_background": "light"
     },
     "output_type": "display_data"
    }
   ],
   "source": [
    "from schools_data import school_one, school_two, school_three\n",
    "\n",
    "deciles_one = np.quantile(school_one, [0.1, 0.2, 0.3, 0.4, 0.5, 0.6, 0.7, 0.8, 0.9])\n",
    "deciles_two = np.quantile(school_two, [0.1, 0.2, 0.3, 0.4, 0.5, 0.6, 0.7, 0.8, 0.9])\n",
    "deciles_three = np.quantile(school_three, [0.1, 0.2, 0.3, 0.4, 0.5, 0.6, 0.7, 0.8, 0.9])\n",
    "\n",
    "plt.subplot(311)\n",
    "plt.hist(school_one)\n",
    "for decile in deciles_one:\n",
    "  plt.axvline(x=decile, c = 'r')\n",
    "plt.title(\"School One\")\n",
    "plt.xlabel(\"SAT Score\")\n",
    "  \n",
    "plt.subplot(312)\n",
    "plt.hist(school_two)\n",
    "for decile in deciles_two:\n",
    "  plt.axvline(x=decile, c = 'r')\n",
    "plt.title(\"School Two\")\n",
    "plt.xlabel(\"SAT Score\")\n",
    "  \n",
    "plt.subplot(313)\n",
    "plt.hist(school_three)\n",
    "for decile in deciles_three:\n",
    "  plt.axvline(x=decile, c = 'r')\n",
    "plt.title(\"School Three\")\n",
    "plt.xlabel(\"SAT Score\")\n",
    "plt.tight_layout()\n",
    "plt.show()"
   ]
  },
  {
   "cell_type": "markdown",
   "id": "08b86ebf",
   "metadata": {},
   "source": [
    "## Interquartile Range\n",
    "\n",
    "One of the most common statistics to describe a dataset is the _range_. The range of a dataset is the difference between the maximum and minimum values. While this descriptive statistic is a good start, it is important to consider the impact outliers have on the results:\n",
    "\n",
    "<img src='outliers.svg' style='max-height: 1000px'>\n",
    "\n",
    "In this image, most of the data is between 0 and 15. However, there is one large negative outlier (-20) and one large positive outlier (40). This makes the range of the dataset 60 (The difference between 40 and -20). That’s not very representative of the spread of the majority of the data!\n",
    "\n",
    "The _interquartile range_ (IQR) is a descriptive statistic that tries to solve this problem. The IQR ignores the tails of the dataset, so you know the range around-which your data is centered.\n",
    "\n",
    "The interquartile range is the difference between the third quartile (Q3) and the first quartile (Q1). For now, all you need to know is that the first quartile is the value that separates the first 25% of the data from the remaining 75%. The third quartile is the opposite — it separates the first 75% of the data from the remaining 25%.\n",
    "\n",
    "<img src='interquartile.svg' style='max-height:1000px'>\n",
    "The interquartile range is the difference between these two values."
   ]
  },
  {
   "cell_type": "code",
   "execution_count": 49,
   "id": "d979646d",
   "metadata": {},
   "outputs": [
    {
     "name": "stdout",
     "output_type": "stream",
     "text": [
      "99.53959000000003\n"
     ]
    }
   ],
   "source": [
    "q1 = np.quantile(songs, 0.25)\n",
    "q3 = np.quantile(songs, 0.75)\n",
    "interquartile_range = q3 - q1\n",
    "print(interquartile_range)"
   ]
  },
  {
   "cell_type": "markdown",
   "id": "aa5791ad",
   "metadata": {},
   "source": [
    "## IQR in SciPy\n",
    "\n",
    "The SciPy library has a function that can calculate the IQR all in one step.\n",
    "\n",
    "The `iqr()` function takes a dataset as a parameter and returns the Interquartile Range. Notice that when we imported `iqr()`, we imported it from the stats submodule:\n",
    "\n",
    "```python\n",
    "from scipy.stats import iqr\n",
    " \n",
    "dataset = [4, 10, 38, 85, 193]\n",
    "interquartile_range = iqr(dataset)\n",
    "```\n",
    "Unlike the range, the IQR is robust. A statistic is robust when outliers have little impact on it. For example, the IQRs of the two datasets below are identical, even though one has a massive outlier.\n",
    "\n",
    "```python\n",
    "dataset_one = [6, 9, 10, 45, 190, 200] #IQR is 144.5\n",
    "dataset_two = [6, 9, 10, 45, 190, 20000000] #IQR is 144.5\n",
    "```\n",
    "By looking at the IQR instead of the range, you can get a better sense of the spread of the middle of the data.\n",
    "\n",
    "The interquartile range is displayed in a commonly-used graph — the box plot.\n",
    "\n",
    "<img src='boxplot.webp' style='max-height:300px'>"
   ]
  },
  {
   "cell_type": "code",
   "execution_count": 50,
   "id": "6d87778c",
   "metadata": {},
   "outputs": [
    {
     "name": "stdout",
     "output_type": "stream",
     "text": [
      "99.53959000000003\n"
     ]
    }
   ],
   "source": [
    "from scipy.stats import iqr\n",
    "interquartile_range = iqr(songs)\n",
    "print(interquartile_range)"
   ]
  },
  {
   "cell_type": "markdown",
   "id": "85b6cb21",
   "metadata": {},
   "source": [
    "## Boxplots\n",
    "\n",
    "Boxplots are one of the most common ways to visualize a dataset. Like histograms, boxplots give you a sense of the central tendency and spread of the data.\n",
    "\n",
    "<img src='music_boxplot.png' style='max-height:300px'>\n",
    "\n",
    "Take a look at the boxplot on this page. This boxplot is visualizing a dataset containing the lengths of 9,975 songs. Some of the features of the boxplot are:\n",
    "\n",
    "- The line in the center of the box is the median.\n",
    "- The edges of the box are the first and third quartiles. This makes the length of the box the interquartile range — the middle 50% of your data.\n",
    "- The whiskers of the boxplot extend to include most of the data. There are many different ways to calculate the length of the whiskers.\n",
    "- Outliers are points that fall beyond the whiskers. Those points are represented with dots. In the boxplot we’re showing, there are _many_ outliers.\n",
    "\n",
    "### Median\n",
    "\n",
    "When making a box plot, the easiest place to start is the line that is inside the box. This line is the median of the dataset. Half of the data falls above that line and half falls below it.\n",
    "\n",
    "### Interquartile Range\n",
    "\n",
    "The box extends to the first and third quartile of the dataset. \n",
    "\n",
    "This visually splits the data into fourths. One-quarter of the data will fall outside of the box to the left. Another quarter of the data will fall between the left side of the box and the median line. A third quarter of the data falls between the median line and the right side of the box. And the last quarter of the data falls outside the box to the right.\n",
    "\n",
    "By drawing the edges of the box using the first and third quartiles, the interquartile range is visualized. The length of the box represents this commonly used descriptive statistic.\n",
    "\n",
    "### Whiskers\n",
    "\n",
    "The whiskers of a boxplot display information related to the spread of the dataset.\n",
    "\n",
    "There are many different ways to plot the whiskers of a boxplot. You might see some boxplots where the whiskers extend to the minimum and maximum values. Some boxplots have whiskers that extend one standard deviation away from the mean of the data.\n",
    "\n",
    "However, one of the most commonly used methods of drawing the whiskers is to extend them 1.5 times the interquartile range from the first and third quartile.\n",
    "\n",
    "For example, let’s say you had a dataset where the first quartile was 4 and the third quartile was 9. The interquartile range for this dataset is 5.\n",
    "\n",
    "The whiskers would extend 1.5 times the length of the IQR. In this case, that is 1.5 * 5, or 7.5.\n",
    "\n",
    "We know the whiskers extend 7.5 units, but where do they start? They start at the edges of the box, or the first and third quartiles. In this case, the left whisker starts at the first quartile (4), and extend 7.5 units to the left. So the left whisker extends to -3.5. The right whisker starts at the third quartile (9) and extends to 16.5.\n",
    "\n",
    "<img src='whiskers.svg' style='max-height:300px'>\n",
    "\n",
    "One more small detail to note — the whiskers usually don’t extend all the way to 1.5 times the IQR. Instead, they extend to the point closest to 1.5 times the IQR in the direction of the median. This means that instead of extending to -3.5 and 16.5, the whiskers would actually extend to the first point greater than -3.5 and the first point less than 16.5.\n",
    "\n",
    "<img src='short_whiskers.svg' style='max-height:300px'>\n",
    "\n",
    "### Outliers\n",
    "\n",
    "The final piece of a boxplot is the representation of outliers. An outlier is a point in the dataset that falls outside of the whiskers. Outliers are usually represented with a dot or an asterisk."
   ]
  },
  {
   "cell_type": "code",
   "execution_count": 51,
   "id": "8e2743da",
   "metadata": {},
   "outputs": [],
   "source": [
    "from data_boxplot import dataset\n",
    "dataset_median = np.median(dataset)\n",
    "quartile_one = np.quantile(dataset, 0.25)\n",
    "quartile_three = np.quantile(dataset, 0.75)\n",
    "iqr = quartile_three - quartile_one\n",
    "distance = 1.5*iqr\n",
    "left_whisker = quartile_one - distance\n",
    "right_whisker = quartile_three + distance"
   ]
  },
  {
   "cell_type": "markdown",
   "id": "7a44e60e",
   "metadata": {},
   "source": [
    "## Boxplots in Matplotlib\n",
    "\n",
    "The `matplotlib.pyplot` module has a function named `boxplot()`. `boxplot()` takes a dataset as a parameter. This dataset could be something like a list of numbers, or a Pandas DataFrame.\n",
    "\n",
    "```python\n",
    "import matplotlib.pyplot as plt\n",
    " \n",
    "data = [1, 2, 3, 4, 5]\n",
    "plt.boxplot(data)\n",
    "plt.show()\n",
    "```\n",
    "One of the strengths of Matplotlib is the ease of plotting two boxplots side by side. If you pass `boxplot()` a list of datasets, Matplotlib will make a boxplot for each, allowing you to compare their spread and central tendencies,\n",
    "\n",
    "```python\n",
    "import matplotlib.pyplot as plt\n",
    " \n",
    "dataset_one = [1, 2, 3, 4, 5]\n",
    "dataset_two = [3, 4, 5, 6, 7]\n",
    "plt.boxplot([dataset_one, dataset_two])\n",
    "plt.show()\n",
    "```\n",
    "Some of the major takeaways from boxplots are:\n",
    "\n",
    "- The box of a boxplot visualizes the median, first quartile, and third quartile of a dataset.\n",
    "- The length of the box in a boxplot visualizes the interquartile range.\n",
    "- The whiskers extend from the box 1.5 times the size of the interquartile range.\n",
    "- Outliers are points that fall outside of the whiskers. They’re represented by dots.\n",
    "- Boxplots are especially useful for comparing the spread of multiple datasets."
   ]
  },
  {
   "cell_type": "code",
   "execution_count": 52,
   "id": "ae5c4e04",
   "metadata": {},
   "outputs": [
    {
     "data": {
      "image/png": "[encoded data removed]",
      "text/plain": [
       "<Figure size 432x288 with 1 Axes>"
      ]
     },
     "metadata": {
      "needs_background": "light"
     },
     "output_type": "display_data"
    },
    {
     "data": {
      "image/png": "[encoded data removed]",
      "text/plain": [
       "<Figure size 432x288 with 5 Axes>"
      ]
     },
     "metadata": {
      "needs_background": "light"
     },
     "output_type": "display_data"
    }
   ],
   "source": [
    "np.random.seed(1)\n",
    "\n",
    "a = np.random.normal(1, 1, 1000)\n",
    "b = np.random.normal(0, 3, 1000)\n",
    "c = np.random.normal(2, 1.5, 1000)\n",
    "d = np.random.normal(-4, 5, 1000)\n",
    "e = np.random.normal(5, 2, 1000)\n",
    "plt.boxplot([a,b,c,d,e])\n",
    "plt.show()\n",
    "plt.subplot(511)\n",
    "plt.hist(a)\n",
    "plt.xlim([-20,20])\n",
    "plt.subplot(512)\n",
    "plt.hist(b)\n",
    "plt.xlim([-20,20])\n",
    "plt.subplot(513)\n",
    "plt.hist(c)\n",
    "plt.xlim([-20,20])\n",
    "plt.subplot(514)\n",
    "plt.hist(d)\n",
    "plt.xlim([-20,20])\n",
    "plt.subplot(515)\n",
    "plt.hist(e)\n",
    "plt.xlim([-20,20])\n",
    "plt.tight_layout()\n",
    "plt.show()"
   ]
  }
 ],
 "metadata": {
  "kernelspec": {
   "display_name": "Python 3 (ipykernel)",
   "language": "python",
   "name": "python3"
  },
  "language_info": {
   "codemirror_mode": {
    "name": "ipython",
    "version": 3
   },
   "file_extension": ".py",
   "mimetype": "text/x-python",
   "name": "python",
   "nbconvert_exporter": "python",
   "pygments_lexer": "ipython3",
   "version": "3.10.6"
  }
 },
 "nbformat": 4,
 "nbformat_minor": 5
}
